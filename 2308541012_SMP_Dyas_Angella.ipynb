{
 "cells": [
  {
   "cell_type": "code",
   "execution_count": 1,
   "id": "7dba843a-73a9-46f8-a61c-ec29b2bcac99",
   "metadata": {},
   "outputs": [
    {
     "name": "stdout",
     "output_type": "stream",
     "text": [
      "Nilai X1 =  -1.618033988749895\n",
      "Nilai X2 =  0.6180339887498949\n"
     ]
    }
   ],
   "source": [
    "import math\n",
    "#Menghitung nilai dari akar-akar yang sudah diperoleh dari persamaan X^2+X-1=0\n",
    "X1_12 = (-1-math.sqrt(5))/2\n",
    "print(\"Nilai X1 = \",X1_12)\n",
    "\n",
    "X2_12 = (-1+math.sqrt(5))/2\n",
    "print(\"Nilai X2 = \",X2_12)"
   ]
  },
  {
   "cell_type": "code",
   "execution_count": 2,
   "id": "a3e93ba5-abab-4451-9e8f-8f2602daafbb",
   "metadata": {},
   "outputs": [
    {
     "name": "stdout",
     "output_type": "stream",
     "text": [
      "Kita akan mencari nilai n dari persamaan\n",
      "X^2024-X^2025 = (X(1-X))^n\n",
      "\n",
      "Dengan nilai X1 dan X2 yang sudah diketahui yaitu\n",
      "Nilai dari X1 = -1.618033988749895\n",
      "Nilai dari X2 = 0.6180339887498949\n",
      "\n"
     ]
    },
    {
     "name": "stdin",
     "output_type": "stream",
     "text": [
      "Masukkan nilai X1 atau nilai X2 : -1.618033988749895\n"
     ]
    },
    {
     "name": "stdout",
     "output_type": "stream",
     "text": [
      "Nilai n = 675.333\n"
     ]
    }
   ],
   "source": [
    "import math\n",
    "print(\"Kita akan mencari nilai n dari persamaan\")\n",
    "print(\"X^2024-X^2025 = (X(1-X))^n\")\n",
    "print()\n",
    "print(\"Dengan nilai X1 dan X2 yang sudah diketahui yaitu\")\n",
    "print(\"Nilai dari X1 = -1.618033988749895\")\n",
    "print(\"Nilai dari X2 = 0.6180339887498949\")\n",
    "print()\n",
    "\n",
    "#Minta pengguna memasukkan nilai X1 atau nilai X2 untuk menghitung n\n",
    "X_12 = float(input(\"Masukkan nilai X1 atau nilai X2 :\"))\n",
    "\n",
    "#diketauhui n = log(X^2024-X^2025)/log(X(1-X))\n",
    "#Hitung nilai n dengan sifat-sifat logaritma\n",
    "if X_12 == -1.618033988749895:\n",
    "    #log(X^2024-X^2025) dapat kita ubah menjadi log(X^2024(1-X))\n",
    "    #ingat sifat logaritma log(ab) = log(a)+log(b)\n",
    "    #sehingga diperoleh log(X^2024)+log(1-X)\n",
    "    a_12 = 2024 * math.log(abs(X_12)) #Mencari nilai log(X^2024)\n",
    "    b_12 = math.log(abs(1 - X_12)) #Mencari nilai log(1-X)\n",
    "    c_12 = math.log(abs(X_12 * (X_12 - 1))) #Mencari nilai log(X(1-X))\n",
    "    pembilang_12 =a_12 + b_12\n",
    "    penyebut_12 = c_12\n",
    "    n_12 = pembilang_12 / penyebut_12\n",
    "    print(\"Nilai n = {:.3f}\".format(n_12))\n",
    "elif X_12 == 0.6180339887498949:\n",
    "    a_12 = 2024 * math.log(abs(X_12))\n",
    "    b_12 = math.log(abs(1 - X_12))\n",
    "    c_12 = math.log(abs(X_12 * (X_12 - 1)))\n",
    "    pembilang_12 =a_12 + b_12\n",
    "    penyebut_12 = c_12\n",
    "    n_12 = pembilang_12 / penyebut_12\n",
    "    print(\"Nilai n = {:.3f}\".fomat(n_12))   \n",
    "else :\n",
    "    print(\"Harap masukkan nilai yang benar\")"
   ]
  },
  {
   "cell_type": "code",
   "execution_count": 3,
   "id": "2b75d0c9-0071-401e-9553-948d60eba87f",
   "metadata": {},
   "outputs": [
    {
     "name": "stdout",
     "output_type": "stream",
     "text": [
      "Hail dari nilai n yang dihitung manual yaitu 675.333\n"
     ]
    }
   ],
   "source": [
    "manual_12 = 2026/3\n",
    "print(\"Hail dari nilai n yang dihitung manual yaitu {:.3f}\".format(manual_12))"
   ]
  },
  {
   "cell_type": "markdown",
   "id": "5a8dcf3b-9c10-4ed6-98d6-e57955bfddc0",
   "metadata": {},
   "source": [
    "BANDINGKAN KEDUA NILAI YANG DIHITUNG SECARA MANUAL DENGAN YANG MENGGUNAKAN LOGARITMA"
   ]
  }
 ],
 "metadata": {
  "kernelspec": {
   "display_name": "Python 3 (ipykernel)",
   "language": "python",
   "name": "python3"
  },
  "language_info": {
   "codemirror_mode": {
    "name": "ipython",
    "version": 3
   },
   "file_extension": ".py",
   "mimetype": "text/x-python",
   "name": "python",
   "nbconvert_exporter": "python",
   "pygments_lexer": "ipython3",
   "version": "3.11.7"
  }
 },
 "nbformat": 4,
 "nbformat_minor": 5
}
