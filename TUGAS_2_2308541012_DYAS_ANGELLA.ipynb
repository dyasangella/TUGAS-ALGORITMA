{
 "cells": [
  {
   "cell_type": "code",
   "execution_count": 1,
   "id": "749ee638-f168-44ac-907a-eb618447e51b",
   "metadata": {},
   "outputs": [
    {
     "name": "stdout",
     "output_type": "stream",
     "text": [
      "\t\t\t\t======================\n",
      "\t\t\t\tWARUNG MAKAN MBOK INEM\n",
      "\t\t\t\t======================\n",
      "\n",
      "MENU WARUNG MAKAN MBOK INEM FREE REFILL ES TEH:\n",
      "\t\t\t\t1. Nasi Tempong  : Rp. 15.000\n",
      "\t\t\t\t2. Nasi Pecel    : Rp. 10.000\n",
      "\t\t\t\t3. Ayam Panggang : Rp. 20.000\n",
      "\t\t\t\t4. Ayam Geprek   : Rp. 12.000\n",
      "\n"
     ]
    },
    {
     "name": "stdin",
     "output_type": "stream",
     "text": [
      "Mau pesan menu (1/2/3/4) ? :  4\n",
      "Berapa banyak pesanan anda ? :  5\n"
     ]
    },
    {
     "name": "stdout",
     "output_type": "stream",
     "text": [
      "\n",
      "\t\t\tNota Belanja Anda\n",
      "\t\t\t=================\n",
      "Pilihan Menu                  =  4\n",
      "Jumlah Pesanan                =  5\n",
      "Total Bayar                   =  Rp. 60000\n"
     ]
    },
    {
     "name": "stdin",
     "output_type": "stream",
     "text": [
      "Jumlah Nominal Uang = 78000\n"
     ]
    },
    {
     "name": "stdout",
     "output_type": "stream",
     "text": [
      "Uang Kembalian               =  Rp.  18000\n"
     ]
    }
   ],
   "source": [
    "print ('\\t\\t\\t\\t======================')\n",
    "print ('\\t\\t\\t\\tWARUNG MAKAN MBOK INEM')\n",
    "print ('\\t\\t\\t\\t======================')\n",
    "print ()\n",
    "print('MENU WARUNG MAKAN MBOK INEM FREE REFILL ES TEH:')\n",
    "print('\\t\\t\\t\\t1. Nasi Tempong  : Rp. 15.000')\n",
    "print('\\t\\t\\t\\t2. Nasi Pecel    : Rp. 10.000')\n",
    "print('\\t\\t\\t\\t3. Ayam Panggang : Rp. 20.000')\n",
    "print('\\t\\t\\t\\t4. Ayam Geprek   : Rp. 12.000')\n",
    "print ()\n",
    "pilihan = int(input('Mau pesan menu (1/2/3/4) ? : '))\n",
    "if pilihan==1 :\n",
    "    hargaMenu = 15000\n",
    "elif pilihan==2 :\n",
    "    hargaMenu = 10000\n",
    "elif pilihan==3 :\n",
    "    hargaMenu = 20000\n",
    "elif pilihan==4 :\n",
    "    hargaMenu = 12000\n",
    "else :\n",
    "    print ()\n",
    "    print('Maaf menu yang anda pilih tidak tersedia')\n",
    "    print('Terima kasih')\n",
    "    sys.exit()\n",
    "    \n",
    "jumlah = int(input('Berapa banyak pesanan anda ? : '))\n",
    "pembelanjaan = hargaMenu*jumlah\n",
    "    \n",
    "print()\n",
    "print('\\t\\t\\tNota Belanja Anda')\n",
    "print('\\t\\t\\t=================')\n",
    "print('Pilihan Menu                  = ', pilihan)\n",
    "print('Jumlah Pesanan                = ',jumlah)\n",
    "print('Total Bayar                   = ', 'Rp.', pembelanjaan)\n",
    "Bayar=int(input('Jumlah Nominal Uang ='))\n",
    "Kembalian= (Bayar-pembelanjaan)\n",
    "print('Uang Kembalian               = ', 'Rp. ',Kembalian)"
   ]
  },
  {
   "cell_type": "code",
   "execution_count": 2,
   "id": "a0fceedb-c81c-467b-aa5c-46e1078cd0d9",
   "metadata": {},
   "outputs": [
    {
     "name": "stdout",
     "output_type": "stream",
     "text": [
      "\t\t\t\t====================================\n",
      "\t\t\t\tTOGEL MBAH JENGGOT DIJAMIN GACOR!!\n",
      "\t\t\t\t====================================\n",
      "\n",
      "Selamat datang di Togel Mbah Jenggot\n"
     ]
    },
    {
     "name": "stdin",
     "output_type": "stream",
     "text": [
      "Apakah anda ingin main y/n? :  y\n"
     ]
    },
    {
     "name": "stdout",
     "output_type": "stream",
     "text": [
      "SEMOGA GACOR KANG ^^\n"
     ]
    },
    {
     "name": "stdin",
     "output_type": "stream",
     "text": [
      "Masukkan 4 angka keberuntunganmu! :  9765\n"
     ]
    },
    {
     "name": "stdout",
     "output_type": "stream",
     "text": [
      "\n",
      "\t\t\t\t===============\n",
      "\t\t\t\tRUNGKAD KANG!!!\n",
      "\t\t\t\t===============\n"
     ]
    }
   ],
   "source": [
    "print('\\t\\t\\t\\t====================================')\n",
    "print('\\t\\t\\t\\tTOGEL MBAH JENGGOT DIJAMIN GACOR!!')\n",
    "print('\\t\\t\\t\\t====================================')\n",
    "print()\n",
    "print('Selamat datang di Togel Mbah Jenggot')\n",
    "pilihan = input('Apakah anda ingin main y/n? : ')\n",
    "if pilihan.lower () == 'y' :\n",
    "    print('SEMOGA GACOR KANG ^^')\n",
    "elif pilihan.lower () == \"n\" :\n",
    "    print ('JANGAN LUPA DEPO LAGI BOSS ^^')\n",
    "    sys.exit()\n",
    "else :\n",
    "    print('PILIHAN TIDAK ADA!!')\n",
    "    sys.exit()\n",
    "Angkatogel = input('Masukkan 4 angka keberuntunganmu! : ')\n",
    "if Angkatogel.lower () == '5087' :\n",
    "    print()\n",
    "    print('GACORR BOSKUUU!!!')\n",
    "    print()\n",
    "    print('\\t\\t\\t\\t==============================================')\n",
    "    print('\\t\\t\\t\\tAMBIL KEBERUNTUNGAN ANDA HANYA DI MBAH JENGGOT')\n",
    "    print('\\t\\t\\t\\t==============================================')   \n",
    "else : \n",
    "    print()\n",
    "    print('\\t\\t\\t\\t===============')\n",
    "    print('\\t\\t\\t\\tRUNGKAD KANG!!!')\n",
    "    print('\\t\\t\\t\\t===============')"
   ]
  },
  {
   "cell_type": "code",
   "execution_count": null,
   "id": "03e4aedb-d6ce-413d-bc95-973003b9d81b",
   "metadata": {},
   "outputs": [],
   "source": []
  }
 ],
 "metadata": {
  "kernelspec": {
   "display_name": "Python 3 (ipykernel)",
   "language": "python",
   "name": "python3"
  },
  "language_info": {
   "codemirror_mode": {
    "name": "ipython",
    "version": 3
   },
   "file_extension": ".py",
   "mimetype": "text/x-python",
   "name": "python",
   "nbconvert_exporter": "python",
   "pygments_lexer": "ipython3",
   "version": "3.11.7"
  }
 },
 "nbformat": 4,
 "nbformat_minor": 5
}
