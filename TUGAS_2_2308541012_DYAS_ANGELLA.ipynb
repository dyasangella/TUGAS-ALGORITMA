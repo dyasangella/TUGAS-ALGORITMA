{
 "cells": [
  {
   "cell_type": "code",
   "execution_count": 31,
   "id": "22190997-84dc-4b01-897f-9dc14a37bd50",
   "metadata": {},
   "outputs": [
    {
     "name": "stdin",
     "output_type": "stream",
     "text": [
      "berapa sisi dari persegi: 7\n"
     ]
    },
    {
     "name": "stdout",
     "output_type": "stream",
     "text": [
      "luas persegi adalah 49\n"
     ]
    }
   ],
   "source": [
    "sisi_12 = input('berapa sisi dari persegi:')\n",
    "luas_12 = int(sisi_12) * int(sisi_12)\n",
    "print('luas persegi adalah', luas_12)"
   ]
  },
  {
   "cell_type": "code",
   "execution_count": 32,
   "id": "d5de2e18-9dd0-4824-83ac-ccc900fad03d",
   "metadata": {},
   "outputs": [
    {
     "name": "stdout",
     "output_type": "stream",
     "text": [
      "Dyas mempunyai cita-cita ingin menjadi seorang dokter dan dia sangat suka warna pink\n"
     ]
    }
   ],
   "source": [
    "nama_12 = 'Dyas'\n",
    "Cita_cita_12 = 'dokter'\n",
    "hoby_12 = 'menulis'\n",
    "warna_favorit_12 = 'pink'\n",
    "print(nama_12 + ' mempunyai cita-cita ingin menjadi seorang ' + Cita_cita_12 + ' dan dia sangat suka warna ' + warna_favorit_12)"
   ]
  },
  {
   "cell_type": "code",
   "execution_count": 33,
   "id": "4e83e7b6-7d47-4e91-85b9-d6224b0affc9",
   "metadata": {},
   "outputs": [
    {
     "name": "stdout",
     "output_type": "stream",
     "text": [
      "Dyas mempunyai cita-cita menjadi dokter.\n"
     ]
    }
   ],
   "source": [
    "print(f'{nama_12} mempunyai cita-cita menjadi {Cita_cita_12}.')"
   ]
  },
  {
   "cell_type": "code",
   "execution_count": 34,
   "id": "6bbf9db8-bd56-4fd5-a33a-0a6432aa7fb5",
   "metadata": {},
   "outputs": [
    {
     "name": "stdout",
     "output_type": "stream",
     "text": [
      "Dyas sangat menyukai warna pink.\n"
     ]
    }
   ],
   "source": [
    "print(f'{nama_12} sangat menyukai warna {warna_favorit_12}.')"
   ]
  },
  {
   "cell_type": "code",
   "execution_count": 14,
   "id": "2201549e-08d3-41cc-87ab-e3189f01dfe7",
   "metadata": {},
   "outputs": [],
   "source": [
    "pekerjaan = 'ayahku seorang tentara'"
   ]
  },
  {
   "cell_type": "code",
   "execution_count": 36,
   "id": "ca3afe2f-a6b2-41f0-8520-c0832649e927",
   "metadata": {},
   "outputs": [
    {
     "name": "stdout",
     "output_type": "stream",
     "text": [
      "ayah\n"
     ]
    }
   ],
   "source": [
    "print(pekerjaan[0:4])"
   ]
  },
  {
   "cell_type": "code",
   "execution_count": 24,
   "id": "1879dcc9-452d-4076-9685-a62442ff8f96",
   "metadata": {},
   "outputs": [
    {
     "name": "stdout",
     "output_type": "stream",
     "text": [
      "ayahku\n"
     ]
    }
   ],
   "source": [
    "print(pekerjaan[0:6])"
   ]
  },
  {
   "cell_type": "code",
   "execution_count": 23,
   "id": "525ccb14-aad4-4ff1-b37e-e801dab3aade",
   "metadata": {},
   "outputs": [
    {
     "name": "stdout",
     "output_type": "stream",
     "text": [
      "ayahku seorang tentara\n"
     ]
    }
   ],
   "source": [
    "print(pekerjaan[:])"
   ]
  },
  {
   "cell_type": "code",
   "execution_count": 30,
   "id": "265a6aed-e9fc-4674-8d3b-be39955d04a2",
   "metadata": {},
   "outputs": [
    {
     "name": "stdout",
     "output_type": "stream",
     "text": [
      "seorang\n"
     ]
    }
   ],
   "source": [
    "print(pekerjaan[7:-8])"
   ]
  },
  {
   "cell_type": "code",
   "execution_count": 64,
   "id": "e76960ba-b528-4d9e-8fba-f22a1776b01a",
   "metadata": {},
   "outputs": [
    {
     "name": "stdout",
     "output_type": "stream",
     "text": [
      " tentar\n"
     ]
    }
   ],
   "source": [
    "print(pekerjaan[14:-1])"
   ]
  },
  {
   "cell_type": "code",
   "execution_count": 37,
   "id": "e5d3c5b2-311d-43bb-8447-1447ccf3a020",
   "metadata": {},
   "outputs": [],
   "source": [
    "motto = 'nothing is impossible'"
   ]
  },
  {
   "cell_type": "code",
   "execution_count": 39,
   "id": "9b516e9c-d7e7-48a7-838e-9b6db5f2fa93",
   "metadata": {},
   "outputs": [
    {
     "name": "stdout",
     "output_type": "stream",
     "text": [
      "21\n"
     ]
    }
   ],
   "source": [
    "print(len(motto))"
   ]
  },
  {
   "cell_type": "code",
   "execution_count": 40,
   "id": "98e4e6e9-6ea1-473a-8fe3-ef776373d381",
   "metadata": {},
   "outputs": [
    {
     "name": "stdout",
     "output_type": "stream",
     "text": [
      "False\n"
     ]
    }
   ],
   "source": [
    "print('Nothing' in motto)"
   ]
  },
  {
   "cell_type": "code",
   "execution_count": 65,
   "id": "768a1782-3b53-43fc-9a4f-22081ad48c15",
   "metadata": {},
   "outputs": [
    {
     "data": {
      "text/plain": [
       "'NOTHING IS IMPOSSIBLE'"
      ]
     },
     "execution_count": 65,
     "metadata": {},
     "output_type": "execute_result"
    }
   ],
   "source": [
    "motto.upper()"
   ]
  },
  {
   "cell_type": "code",
   "execution_count": 66,
   "id": "2579111b-79be-41ab-ad92-26bdad5edc37",
   "metadata": {},
   "outputs": [
    {
     "name": "stdout",
     "output_type": "stream",
     "text": [
      "True\n"
     ]
    }
   ],
   "source": [
    "print('nothing' in motto)"
   ]
  },
  {
   "cell_type": "code",
   "execution_count": 43,
   "id": "26797ce9-b20d-49f7-8f19-f57bf992c35c",
   "metadata": {},
   "outputs": [
    {
     "name": "stdout",
     "output_type": "stream",
     "text": [
      "16\n",
      "8911\n",
      "4590\n",
      "9.0\n",
      "9.88888888888889\n",
      "9\n",
      "65536\n"
     ]
    }
   ],
   "source": [
    "print(7+9)\n",
    "print(9000-89)\n",
    "print(85*54)\n",
    "print(90/10)\n",
    "print(89/9)\n",
    "print(89//9)\n",
    "print(4**8)"
   ]
  },
  {
   "cell_type": "code",
   "execution_count": 45,
   "id": "cfcdeed2-f803-4d14-bda4-1b73fed74869",
   "metadata": {},
   "outputs": [
    {
     "name": "stdin",
     "output_type": "stream",
     "text": [
      "berapa tinggi dyas? 150\n",
      "berapa tinggi atik? 160\n"
     ]
    },
    {
     "name": "stdout",
     "output_type": "stream",
     "text": [
      "dyas lebih tinggi dari atik\n",
      "False\n"
     ]
    }
   ],
   "source": [
    "dyas_12 = input(\"berapa tinggi dyas?\")\n",
    "atik_12 = input(\"berapa tinggi atik?\")\n",
    "print('dyas lebih tinggi dari atik') \n",
    "print(dyas_12>atik_12)"
   ]
  },
  {
   "cell_type": "code",
   "execution_count": 48,
   "id": "23d6e3c6-dc72-474b-95cb-1328eb03b7c3",
   "metadata": {},
   "outputs": [
    {
     "name": "stdin",
     "output_type": "stream",
     "text": [
      "berapa pengeluaranmu hari ini? 12000\n",
      "berapa penghasilanmu hari ini? 50000\n"
     ]
    },
    {
     "name": "stdout",
     "output_type": "stream",
     "text": [
      "pengeluaranmu lebih kecil dari penghasilanmu\n",
      "True\n"
     ]
    }
   ],
   "source": [
    "pengeluaran_12 = input('berapa pengeluaranmu hari ini?')\n",
    "penghasilan_12 = input('berapa penghasilanmu hari ini?')\n",
    "print('pengeluaranmu lebih kecil dari penghasilanmu')\n",
    "print(pengeluaran_12<penghasilan_12)"
   ]
  },
  {
   "cell_type": "code",
   "execution_count": 53,
   "id": "68691480-d90c-42f4-afe9-2ef6e9cc8e47",
   "metadata": {},
   "outputs": [
    {
     "name": "stdout",
     "output_type": "stream",
     "text": [
      "False\n",
      "True\n",
      "True\n",
      "True\n",
      "False\n",
      "True\n"
     ]
    }
   ],
   "source": [
    "a_12 = 12<5\n",
    "print(a_12)\n",
    "a_12 = 10>6\n",
    "print(a_12)\n",
    "a_12 = 12==12\n",
    "print(a_12)\n",
    "a_12 =  10<=15\n",
    "print(a_12)\n",
    "a_12 = 15>=90\n",
    "print(a_12)\n",
    "a_12 = 78!=90\n",
    "print(a_12)"
   ]
  },
  {
   "cell_type": "code",
   "execution_count": 56,
   "id": "f59abe00-20fc-4297-babb-148bcb32a733",
   "metadata": {},
   "outputs": [
    {
     "name": "stdout",
     "output_type": "stream",
     "text": [
      "False\n"
     ]
    }
   ],
   "source": [
    "uang_ayah_12 = 15000\n",
    "uang_adek_12 = 30000\n",
    "print(uang_ayah_12 > 10000 and uang_adek_12 < 20000)"
   ]
  },
  {
   "cell_type": "code",
   "execution_count": 58,
   "id": "fae89e9d-d939-4cb1-8253-420e27841a7a",
   "metadata": {},
   "outputs": [
    {
     "name": "stdout",
     "output_type": "stream",
     "text": [
      "True\n"
     ]
    }
   ],
   "source": [
    "print(uang_ayah_12 < 20000 and uang_adek_12 > 15000)"
   ]
  },
  {
   "cell_type": "code",
   "execution_count": 59,
   "id": "fc32deb8-95d5-4250-a191-e2bdbca2daf4",
   "metadata": {},
   "outputs": [
    {
     "name": "stdout",
     "output_type": "stream",
     "text": [
      "True\n"
     ]
    }
   ],
   "source": [
    "print(uang_ayah_12 > 12000 or uang_adek_12 < 10000)"
   ]
  },
  {
   "cell_type": "code",
   "execution_count": 60,
   "id": "2275d774-7d94-4e5c-919f-caa26a4a40bf",
   "metadata": {},
   "outputs": [
    {
     "name": "stdout",
     "output_type": "stream",
     "text": [
      "False\n"
     ]
    }
   ],
   "source": [
    "print(uang_ayah_12 < 10000 or uang_adek_12 > 70000)"
   ]
  }
 ],
 "metadata": {
  "kernelspec": {
   "display_name": "Python 3 (ipykernel)",
   "language": "python",
   "name": "python3"
  },
  "language_info": {
   "codemirror_mode": {
    "name": "ipython",
    "version": 3
   },
   "file_extension": ".py",
   "mimetype": "text/x-python",
   "name": "python",
   "nbconvert_exporter": "python",
   "pygments_lexer": "ipython3",
   "version": "3.11.7"
  }
 },
 "nbformat": 4,
 "nbformat_minor": 5
}
