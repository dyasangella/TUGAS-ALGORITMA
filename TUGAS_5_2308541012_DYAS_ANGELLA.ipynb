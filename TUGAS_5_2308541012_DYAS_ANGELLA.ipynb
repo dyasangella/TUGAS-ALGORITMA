{
 "cells": [
  {
   "cell_type": "code",
   "execution_count": 1,
   "id": "f8c94f41-b4bc-48a5-ad00-961c3cee077f",
   "metadata": {},
   "outputs": [
    {
     "name": "stdout",
     "output_type": "stream",
     "text": [
      "1 + 5 = 6\n",
      "2 + 5 = 7\n",
      "3 + 5 = 8\n",
      "4 + 5 = 9\n",
      "5 + 5 = 10\n",
      "6 + 5 = 11\n",
      "7 + 5 = 12\n",
      "8 + 5 = 13\n",
      "9 + 5 = 14\n",
      "10 + 5 = 15\n",
      "11 + 5 = 16\n",
      "12 + 5 = 17\n",
      "13 + 5 = 18\n",
      "14 + 5 = 19\n"
     ]
    }
   ],
   "source": [
    "for k_12 in range(1,15):\n",
    "    print(k_12,'+',5,'=',k_12+5)"
   ]
  },
  {
   "cell_type": "code",
   "execution_count": 2,
   "id": "065ab424-50e2-41dd-8d78-7e8a23b65e16",
   "metadata": {},
   "outputs": [
    {
     "name": "stdin",
     "output_type": "stream",
     "text": [
      "Masukkan batas awal angka yang anda inginkan =  67\n",
      "Masukkan batas akhir angka yang anda inginkan =  78\n"
     ]
    },
    {
     "name": "stdout",
     "output_type": "stream",
     "text": [
      "Angka Ganjil =  67\n",
      "Angka genap =  68\n",
      "Angka Ganjil =  69\n",
      "Angka genap =  70\n",
      "Angka Ganjil =  71\n",
      "Angka genap =  72\n",
      "Angka Ganjil =  73\n",
      "Angka genap =  74\n",
      "Angka Ganjil =  75\n",
      "Angka genap =  76\n",
      "Angka Ganjil =  77\n"
     ]
    }
   ],
   "source": [
    "mulai_12 = int(input('Masukkan batas awal angka yang anda inginkan = '))\n",
    "akhir_12 = int(input('Masukkan batas akhir angka yang anda inginkan = '))\n",
    "k_12 = []\n",
    "for m_12 in range (mulai_12, akhir_12):\n",
    "    if m_12 % 2 == 0 :\n",
    "        print('Angka genap = ', m_12)\n",
    "        continue\n",
    "    print('Angka Ganjil = ', m_12)"
   ]
  },
  {
   "cell_type": "code",
   "execution_count": 3,
   "id": "1c6a4c44-eaef-44db-a126-ba09df2293bb",
   "metadata": {},
   "outputs": [
    {
     "name": "stdout",
     "output_type": "stream",
     "text": [
      "matriks 1 =\n",
      "[10, 3, 9]\n",
      "[7, 6, 15]\n",
      "[16, 11, 1]\n",
      " \n",
      "matriks 2 =\n",
      "[12, 4, 8]\n",
      "[5, 13, 19]\n",
      "[14, 2, 14]\n",
      " \n",
      "Hasil penjumlahan matriks =\n",
      "[22, 7, 17]\n",
      "[12, 19, 34]\n",
      "[30, 13, 15]\n"
     ]
    }
   ],
   "source": [
    "matriks_12 = [\n",
    "    [10,3,9],\n",
    "    [7,6,15],\n",
    "    [16,11,1]\n",
    "]\n",
    "matriks_lanjut_12 = [\n",
    "    [12,4,8],\n",
    "    [5,13,19],\n",
    "    [14,2,14]\n",
    "]\n",
    "hasil_12 = [\n",
    "    [0,0,0],\n",
    "    [0,0,0],\n",
    "    [0,0,0]\n",
    "]\n",
    "print('matriks 1 =')\n",
    "for barisku_12 in matriks_12:\n",
    "    print(barisku_12)\n",
    "print(' ')\n",
    "print('matriks 2 =')\n",
    "for barisini_12 in matriks_lanjut_12:\n",
    "    print(barisini_12)\n",
    "print(' ')\n",
    "for k_12 in range(len(matriks_12)):\n",
    "    for m_12 in range(len(matriks_lanjut_12)):\n",
    "        hasil_12[k_12][m_12] = matriks_12[k_12][m_12] + matriks_lanjut_12[k_12][m_12]\n",
    "print('Hasil penjumlahan matriks =')\n",
    "for baris_12 in hasil_12:\n",
    "    print(baris_12)"
   ]
  },
  {
   "cell_type": "code",
   "execution_count": 11,
   "id": "f54890b3-bade-4ccd-b538-131fbf3a4601",
   "metadata": {},
   "outputs": [
    {
     "name": "stdout",
     "output_type": "stream",
     "text": [
      "Tanggal dan Nama =\n",
      "(12, 12, 20, 4, 'd', 'y', 'a', 's')\n",
      " \n",
      "Tanggal Cantik :\n",
      "12\n",
      "12\n",
      "20\n",
      "4\n",
      " \n",
      "Huruf Cantik :\n",
      "d\n",
      "y\n",
      "a\n",
      "s\n"
     ]
    }
   ],
   "source": [
    "angka_12 = (12,12,20,4)\n",
    "huruf_12 = ('d','y','a','s')\n",
    "jumlah_12 = angka_12 + huruf_12\n",
    "print('Tanggal dan Nama =')\n",
    "print(jumlah_12)\n",
    "print(' ')\n",
    "print('Tanggal Cantik :')\n",
    "for item_12 in angka_12:\n",
    "    print(item_12)\n",
    "print(' ')\n",
    "print('Huruf Cantik :')\n",
    "for itemku_12 in huruf_12:\n",
    "    print(itemku_12)"
   ]
  },
  {
   "cell_type": "code",
   "execution_count": 1,
   "id": "4c9d41a0-576d-4f9b-a4f7-f7d9443cad65",
   "metadata": {},
   "outputs": [],
   "source": [
    "mahasiswa_12 = {\n",
    "    \"002\" : {\"nama_12\" : \"Ragah\", \"umur_12\" : 19, \"hobby_12\" : \"Catur\"},\n",
    "    \"012\" : {\"nama_12\" : \"Dyas\", \"umur_12\" : 19, \"hobby_12\" : \"Tidur\"},\n",
    "    \"021\" : {\"nama_12\" : \"Atik\", \"umur_12\" : 19, \"hobby_12\" : \"Shopping\"},\n",
    "}"
   ]
  },
  {
   "cell_type": "code",
   "execution_count": 8,
   "id": "d5876e4a-3058-481e-aed9-1793e08536e2",
   "metadata": {},
   "outputs": [
    {
     "name": "stdout",
     "output_type": "stream",
     "text": [
      "Daftar Mahasiswa:\n",
      " \n",
      "NIM:  002\n",
      "Nama:  Ragah\n",
      "Umur:  19\n",
      "Hobby:  Catur\n",
      " \n",
      "NIM:  012\n",
      "Nama:  Dyas\n",
      "Umur:  19\n",
      "Hobby:  Tidur\n",
      " \n",
      "NIM:  021\n",
      "Nama:  Atik\n",
      "Umur:  19\n",
      "Hobby:  Shopping\n",
      " \n"
     ]
    }
   ],
   "source": [
    "print(\"Daftar Mahasiswa:\")\n",
    "print(\" \")\n",
    "for NIM_12, Data_12 in mahasiswa_12.items():\n",
    "    print(\"NIM: \", NIM_12)\n",
    "    print(\"Nama: \", Data_12[\"nama_12\"])\n",
    "    print(\"Umur: \", Data_12[\"umur_12\"])\n",
    "    print(\"Hobby: \", Data_12[\"hobby_12\"])\n",
    "    print(\" \")"
   ]
  },
  {
   "cell_type": "code",
   "execution_count": 12,
   "id": "2da88f38-365d-47ea-8828-c37378441acc",
   "metadata": {},
   "outputs": [
    {
     "name": "stdin",
     "output_type": "stream",
     "text": [
      "Masukkan NIM Mahasiswa yang akan anada cari:  012\n"
     ]
    },
    {
     "name": "stdout",
     "output_type": "stream",
     "text": [
      "{'nama_12': 'Dyas', 'umur_12': 19, 'hobby_12': 'Tidur'}\n"
     ]
    }
   ],
   "source": [
    "def cari_mahasiswa_12():\n",
    "    NIM_12 = input(\"Masukkan NIM Mahasiswa yang akan anada cari: \")\n",
    "    if NIM_12 in mahasiswa_12:\n",
    "        return mahasiswa_12[NIM_12]\n",
    "    else :\n",
    "        return \"Data Mahasiswa dengan NIM yang anda masukkan tidak tersedia\"\n",
    "hasil_cari_12 = cari_mahasiswa_12()\n",
    "print(hasil_cari_12)"
   ]
  },
  {
   "cell_type": "code",
   "execution_count": 19,
   "id": "ef014186-b377-4c5f-97ff-507c5dc0a04e",
   "metadata": {},
   "outputs": [
    {
     "name": "stdin",
     "output_type": "stream",
     "text": [
      "Masukkan panjang persegi panjang : 9\n",
      "Masukkan lebar persegi panjang : 0\n"
     ]
    },
    {
     "name": "stdout",
     "output_type": "stream",
     "text": [
      "Luas persegi panjang adalah:  0\n"
     ]
    }
   ],
   "source": [
    "def luas_persegi_panjang_12(panjang_12,lebar_12):\n",
    "    return panjang_12 * lebar_12\n",
    "panjang_12 = int(input(\"Masukkan panjang persegi panjang :\"))\n",
    "lebar_12 = int(input(\"Masukkan lebar persegi panjang :\"))\n",
    "print(\"Luas persegi panjang adalah: \", luas_persegi_panjang_12(panjang_12,lebar_12))"
   ]
  },
  {
   "cell_type": "code",
   "execution_count": null,
   "id": "369bf8bc-737b-4230-915c-c77767a66694",
   "metadata": {},
   "outputs": [],
   "source": []
  }
 ],
 "metadata": {
  "kernelspec": {
   "display_name": "Python 3 (ipykernel)",
   "language": "python",
   "name": "python3"
  },
  "language_info": {
   "codemirror_mode": {
    "name": "ipython",
    "version": 3
   },
   "file_extension": ".py",
   "mimetype": "text/x-python",
   "name": "python",
   "nbconvert_exporter": "python",
   "pygments_lexer": "ipython3",
   "version": "3.11.7"
  }
 },
 "nbformat": 4,
 "nbformat_minor": 5
}
