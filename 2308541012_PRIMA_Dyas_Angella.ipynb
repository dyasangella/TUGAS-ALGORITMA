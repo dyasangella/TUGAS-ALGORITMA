{
 "cells": [
  {
   "cell_type": "code",
   "execution_count": 1,
   "id": "51c9cdde-06f0-49de-8297-e18c9010a05b",
   "metadata": {},
   "outputs": [
    {
     "name": "stdout",
     "output_type": "stream",
     "text": [
      "Bilangan prima antara  12000  sampai dengan  13000  adalah\n",
      "[12007, 12011, 12037, 12041, 12043, 12049, 12071, 12073, 12097, 12101, 12107, 12109, 12113, 12119, 12143, 12149, 12157, 12161, 12163, 12197, 12203, 12211, 12227, 12239, 12241, 12251, 12253, 12263, 12269, 12277, 12281, 12289, 12301, 12323, 12329, 12343, 12347, 12373, 12377, 12379, 12391, 12401, 12409, 12413, 12421, 12433, 12437, 12451, 12457, 12473, 12479, 12487, 12491, 12497, 12503, 12511, 12517, 12527, 12539, 12541, 12547, 12553, 12569, 12577, 12583, 12589, 12601, 12611, 12613, 12619, 12637, 12641, 12647, 12653, 12659, 12671, 12689, 12697, 12703, 12713, 12721, 12739, 12743, 12757, 12763, 12781, 12791, 12799, 12809, 12821, 12823, 12829, 12841, 12853, 12889, 12893, 12899, 12907, 12911, 12917, 12919, 12923, 12941, 12953, 12959, 12967, 12973, 12979, 12983]\n"
     ]
    }
   ],
   "source": [
    "import math\n",
    "\n",
    "# Mengatur nilai n sesuai NIM\n",
    "n_12 = 12\n",
    "a_12 = 1000 * n_12\n",
    "b_12 = 1000 * (n_12 + 1)\n",
    "\n",
    "# Mencari bilangan prima pada rentang nilai a_12 hingga b_12\n",
    "angka_prima_12 = []\n",
    "\n",
    "for c_12 in range(a_12, b_12 + 1):\n",
    "    if c_12 > 1:\n",
    "        prima_12 = True\n",
    "        for i_12 in range(2, int(math.sqrt(c_12)) + 1):\n",
    "            if c_12 % i_12 == 0:\n",
    "                prima_12 = False\n",
    "                break\n",
    "        if prima_12:\n",
    "            angka_prima_12.append(c_12)\n",
    "\n",
    "# Menampilkan hasil\n",
    "print(\"Bilangan prima antara \",a_12,\" sampai dengan \",b_12,\" adalah\")\n",
    "print(angka_prima_12)"
   ]
  }
 ],
 "metadata": {
  "kernelspec": {
   "display_name": "Python 3 (ipykernel)",
   "language": "python",
   "name": "python3"
  },
  "language_info": {
   "codemirror_mode": {
    "name": "ipython",
    "version": 3
   },
   "file_extension": ".py",
   "mimetype": "text/x-python",
   "name": "python",
   "nbconvert_exporter": "python",
   "pygments_lexer": "ipython3",
   "version": "3.11.7"
  }
 },
 "nbformat": 4,
 "nbformat_minor": 5
}
