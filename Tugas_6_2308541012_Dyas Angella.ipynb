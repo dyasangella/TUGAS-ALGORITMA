{
 "cells": [
  {
   "cell_type": "code",
   "execution_count": 1,
   "id": "6b9b278c-1d38-47bd-aab4-fa49a9ff6f6e",
   "metadata": {},
   "outputs": [],
   "source": [
    "import numpy as np"
   ]
  },
  {
   "cell_type": "code",
   "execution_count": 2,
   "id": "eeafe9f1-5223-41ef-a13e-41ca979f7e2d",
   "metadata": {},
   "outputs": [
    {
     "name": "stdout",
     "output_type": "stream",
     "text": [
      "[[1 2 3]\n",
      " [4 5 6]\n",
      " [7 8 9]]\n"
     ]
    }
   ],
   "source": [
    "A_12 = np.array([[1,2,3],\n",
    "                 [4,5,6],\n",
    "                 [7,8,9]])\n",
    "print(A_12)"
   ]
  },
  {
   "cell_type": "code",
   "execution_count": 3,
   "id": "3cbc3c05-8458-40a0-bc84-8b79e30bca76",
   "metadata": {},
   "outputs": [
    {
     "name": "stdout",
     "output_type": "stream",
     "text": [
      "[[1 4 7]\n",
      " [2 5 8]\n",
      " [3 6 9]]\n"
     ]
    }
   ],
   "source": [
    "transpose_12 = np.transpose(A_12)\n",
    "print(transpose_12)"
   ]
  },
  {
   "cell_type": "code",
   "execution_count": 4,
   "id": "afe87dfe-9876-4838-94f2-1ffa818155dc",
   "metadata": {},
   "outputs": [
    {
     "name": "stdout",
     "output_type": "stream",
     "text": [
      "6.66133814775094e-16\n"
     ]
    }
   ],
   "source": [
    "determinan_12 = np.linalg.det(A_12)\n",
    "print(determinan_12)"
   ]
  },
  {
   "cell_type": "code",
   "execution_count": 10,
   "id": "1cb3766c-42f2-4e36-97c0-c7a3d99aac47",
   "metadata": {},
   "outputs": [
    {
     "name": "stdout",
     "output_type": "stream",
     "text": [
      "Hasil perkalian matriks adalah : \n",
      "[[37 44]\n",
      " [32 18]]\n"
     ]
    }
   ],
   "source": [
    "B_12 = ([[1,4,5],\n",
    "         [2,1,3]])\n",
    "C_12 =([[8,0],\n",
    "        [1,6],\n",
    "        [5,4]])\n",
    "K_12 = np.dot(B_12, C_12)\n",
    "print(\"Hasil perkalian matriks adalah : \")\n",
    "print(K_12)"
   ]
  },
  {
   "cell_type": "code",
   "execution_count": 7,
   "id": "82eab697-6309-48cc-b579-97a1a076783a",
   "metadata": {},
   "outputs": [
    {
     "name": "stdout",
     "output_type": "stream",
     "text": [
      "Rata rata tinggi mahasiswa angkatan 2023 adalah 166.43016666666668\n"
     ]
    }
   ],
   "source": [
    "tinggi_12 = [170,172,160,180,167,165,145,160.162,161,176,154,187]\n",
    "rata_12 = np.mean(tinggi_12)\n",
    "print('Rata rata tinggi mahasiswa angkatan 2023 adalah', rata_12)"
   ]
  },
  {
   "cell_type": "code",
   "execution_count": 11,
   "id": "002d07e0-1d1d-42b0-95bd-a066639cf25f",
   "metadata": {},
   "outputs": [
    {
     "name": "stdout",
     "output_type": "stream",
     "text": [
      "[[1. 0. 0. 0. 0. 0. 0. 0.]\n",
      " [0. 1. 0. 0. 0. 0. 0. 0.]\n",
      " [0. 0. 1. 0. 0. 0. 0. 0.]\n",
      " [0. 0. 0. 1. 0. 0. 0. 0.]\n",
      " [0. 0. 0. 0. 1. 0. 0. 0.]\n",
      " [0. 0. 0. 0. 0. 1. 0. 0.]\n",
      " [0. 0. 0. 0. 0. 0. 1. 0.]\n",
      " [0. 0. 0. 0. 0. 0. 0. 1.]]\n"
     ]
    }
   ],
   "source": [
    "matriks_identitas_12 = np.eye(8)\n",
    "print(matriks_identitas_12 )"
   ]
  }
 ],
 "metadata": {
  "kernelspec": {
   "display_name": "Python 3 (ipykernel)",
   "language": "python",
   "name": "python3"
  },
  "language_info": {
   "codemirror_mode": {
    "name": "ipython",
    "version": 3
   },
   "file_extension": ".py",
   "mimetype": "text/x-python",
   "name": "python",
   "nbconvert_exporter": "python",
   "pygments_lexer": "ipython3",
   "version": "3.11.7"
  }
 },
 "nbformat": 4,
 "nbformat_minor": 5
}
