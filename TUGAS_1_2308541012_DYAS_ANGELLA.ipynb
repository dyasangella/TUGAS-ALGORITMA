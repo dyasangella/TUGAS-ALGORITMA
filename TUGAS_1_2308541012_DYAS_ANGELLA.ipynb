{
 "cells": [
  {
   "cell_type": "code",
   "execution_count": 4,
   "id": "749ee638-f168-44ac-907a-eb618447e51b",
   "metadata": {},
   "outputs": [
    {
     "name": "stdout",
     "output_type": "stream",
     "text": [
      "\t\t\t\t======================\n",
      "\t\t\t\tWARUNG MAKAN MBOK INEM\n",
      "\t\t\t\t======================\n",
      "\n",
      "MENU WARUNG MAKAN MBOK INEM FREE REFILL ES TEH:\n",
      "\t\t\t\t1. Nasi Tempong  : Rp. 15.000\n",
      "\t\t\t\t2. Nasi Pecel    : Rp. 10.000\n",
      "\t\t\t\t3. Ayam Panggang : Rp. 20.000\n",
      "\t\t\t\t4. Ayam Geprek   : Rp. 12.000\n",
      "\n"
     ]
    },
    {
     "name": "stdin",
     "output_type": "stream",
     "text": [
      "Mau pesan menu (1/2/3/4) ? :  4\n",
      "Berapa banyak pesanan anda ? :  7\n"
     ]
    },
    {
     "name": "stdout",
     "output_type": "stream",
     "text": [
      "\n",
      "\t\t\tNota Belanja Anda\n",
      "\t\t\t=================\n",
      "Pilihan Menu                  =  4\n",
      "Jumlah Pesanan                =  7\n",
      "Total Bayar                   =  Rp. 84000\n"
     ]
    },
    {
     "name": "stdin",
     "output_type": "stream",
     "text": [
      "Jumlah Nominal Uang = 100000\n"
     ]
    },
    {
     "name": "stdout",
     "output_type": "stream",
     "text": [
      "Uang Kembalian               =  Rp.  16000\n"
     ]
    }
   ],
   "source": [
    "print ('\\t\\t\\t\\t======================')\n",
    "print ('\\t\\t\\t\\tWARUNG MAKAN MBOK INEM')\n",
    "print ('\\t\\t\\t\\t======================')\n",
    "print ()\n",
    "print('MENU WARUNG MAKAN MBOK INEM FREE REFILL ES TEH:')\n",
    "print('\\t\\t\\t\\t1. Nasi Tempong  : Rp. 15.000')\n",
    "print('\\t\\t\\t\\t2. Nasi Pecel    : Rp. 10.000')\n",
    "print('\\t\\t\\t\\t3. Ayam Panggang : Rp. 20.000')\n",
    "print('\\t\\t\\t\\t4. Ayam Geprek   : Rp. 12.000')\n",
    "print ()\n",
    "pilihan_12 = int(input('Mau pesan menu (1/2/3/4) ? : '))\n",
    "if pilihan_12==1 :\n",
    "    hargaMenu_12 = 15000\n",
    "elif pilihan_12==2 :\n",
    "    hargaMenu_12 = 10000\n",
    "elif pilihan_12==3 :\n",
    "    hargaMenu_12 = 20000\n",
    "elif pilihan_12==4 :\n",
    "    hargaMenu_12 = 12000\n",
    "else :\n",
    "    print ()\n",
    "    print('Maaf menu yang anda pilih tidak tersedia')\n",
    "    print('Terima kasih')\n",
    "    sys.exit()\n",
    "    \n",
    "jumlah_12 = int(input('Berapa banyak pesanan anda ? : '))\n",
    "pembelanjaan_12 = hargaMenu_12*jumlah_12\n",
    "    \n",
    "print()\n",
    "print('\\t\\t\\tNota Belanja Anda')\n",
    "print('\\t\\t\\t=================')\n",
    "print('Pilihan Menu                  = ', pilihan_12)\n",
    "print('Jumlah Pesanan                = ',jumlah_12)\n",
    "print('Total Bayar                   = ', 'Rp.', pembelanjaan_12)\n",
    "Bayar_12=int(input('Jumlah Nominal Uang ='))\n",
    "Kembalian_12= (Bayar_12-pembelanjaan_12)\n",
    "print('Uang Kembalian               = ', 'Rp. ',Kembalian_12)"
   ]
  },
  {
   "cell_type": "code",
   "execution_count": 3,
   "id": "a0fceedb-c81c-467b-aa5c-46e1078cd0d9",
   "metadata": {},
   "outputs": [
    {
     "name": "stdout",
     "output_type": "stream",
     "text": [
      "\t\t\t\t====================================\n",
      "\t\t\t\tTOGEL MBAH JENGGOT DIJAMIN GACOR!!\n",
      "\t\t\t\t====================================\n",
      "\n",
      "Selamat datang di Togel Mbah Jenggot\n"
     ]
    },
    {
     "name": "stdin",
     "output_type": "stream",
     "text": [
      "Apakah anda ingin main y/n? :  y\n"
     ]
    },
    {
     "name": "stdout",
     "output_type": "stream",
     "text": [
      "SEMOGA GACOR KANG ^^\n"
     ]
    },
    {
     "name": "stdin",
     "output_type": "stream",
     "text": [
      "Masukkan 4 angka keberuntunganmu! :  6754\n"
     ]
    },
    {
     "name": "stdout",
     "output_type": "stream",
     "text": [
      "\n",
      "\t\t\t\t===============\n",
      "\t\t\t\tRUNGKAD KANG!!!\n",
      "\t\t\t\t===============\n"
     ]
    }
   ],
   "source": [
    "print('\\t\\t\\t\\t====================================')\n",
    "print('\\t\\t\\t\\tTOGEL MBAH JENGGOT DIJAMIN GACOR!!')\n",
    "print('\\t\\t\\t\\t====================================')\n",
    "print()\n",
    "print('Selamat datang di Togel Mbah Jenggot')\n",
    "pilihan_12 = input('Apakah anda ingin main y/n? : ')\n",
    "if pilihan_12.lower () == 'y' :\n",
    "    print('SEMOGA GACOR KANG ^^')\n",
    "elif pilihan_12.lower () == \"n\" :\n",
    "    print ('YAHH GA AJADI MAXWIN ')\n",
    "    sys.exit()\n",
    "else :\n",
    "    print('PILIHAN TIDAK ADA!!')\n",
    "    sys.exit()\n",
    "Angkatogel_12 = input('Masukkan 4 angka keberuntunganmu! : ')\n",
    "if Angkatogel_12.lower () == '5087' :\n",
    "    print()\n",
    "    print('GACORR BOSKUUU!!!')\n",
    "    print()\n",
    "    print('\\t\\t\\t\\t==============================================')\n",
    "    print('\\t\\t\\t\\tAMBIL KEBERUNTUNGAN ANDA HANYA DI MBAH JENGGOT')\n",
    "    print('\\t\\t\\t\\t==============================================')   \n",
    "else : \n",
    "    print()\n",
    "    print('\\t\\t\\t\\t===============')\n",
    "    print('\\t\\t\\t\\tRUNGKAD KANG!!!')\n",
    "    print('\\t\\t\\t\\t===============')"
   ]
  },
  {
   "cell_type": "code",
   "execution_count": null,
   "id": "03e4aedb-d6ce-413d-bc95-973003b9d81b",
   "metadata": {},
   "outputs": [],
   "source": []
  }
 ],
 "metadata": {
  "kernelspec": {
   "display_name": "Python 3 (ipykernel)",
   "language": "python",
   "name": "python3"
  },
  "language_info": {
   "codemirror_mode": {
    "name": "ipython",
    "version": 3
   },
   "file_extension": ".py",
   "mimetype": "text/x-python",
   "name": "python",
   "nbconvert_exporter": "python",
   "pygments_lexer": "ipython3",
   "version": "3.11.7"
  }
 },
 "nbformat": 4,
 "nbformat_minor": 5
}
