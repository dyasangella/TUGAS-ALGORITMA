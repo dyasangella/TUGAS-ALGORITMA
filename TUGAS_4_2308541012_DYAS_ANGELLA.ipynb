{
 "cells": [
  {
   "cell_type": "code",
   "execution_count": 1,
   "id": "4a62cfe4-68a5-4549-922d-3bd0c876854f",
   "metadata": {},
   "outputs": [
    {
     "name": "stdout",
     "output_type": "stream",
     "text": [
      "['anggita', 'anandhi', 'arumi', 'amira']\n"
     ]
    }
   ],
   "source": [
    "nama = ['anggita', 'anandhi', 'arumi', 'amira']\n",
    "print(nama)"
   ]
  },
  {
   "cell_type": "code",
   "execution_count": 2,
   "id": "b91d9daa-abea-46ec-aa3a-30a64790bd18",
   "metadata": {},
   "outputs": [
    {
     "name": "stdout",
     "output_type": "stream",
     "text": [
      "anggita\n"
     ]
    }
   ],
   "source": [
    "print(nama[0])"
   ]
  },
  {
   "cell_type": "code",
   "execution_count": 3,
   "id": "c23b10dc-120e-450b-bc30-68bc0c2b4b7e",
   "metadata": {},
   "outputs": [
    {
     "name": "stdout",
     "output_type": "stream",
     "text": [
      "amira\n"
     ]
    }
   ],
   "source": [
    "print(nama[3])"
   ]
  },
  {
   "cell_type": "code",
   "execution_count": 4,
   "id": "0cd9cd9c-5770-4fba-9978-62329ab27533",
   "metadata": {},
   "outputs": [
    {
     "name": "stdout",
     "output_type": "stream",
     "text": [
      "arumi\n"
     ]
    }
   ],
   "source": [
    "print(nama[-2])"
   ]
  },
  {
   "cell_type": "code",
   "execution_count": 5,
   "id": "facc628f-8158-4d62-9fc8-9a71840d00ec",
   "metadata": {},
   "outputs": [
    {
     "name": "stdout",
     "output_type": "stream",
     "text": [
      "['anggita', 'anandhi', 'alena', 'amira']\n"
     ]
    }
   ],
   "source": [
    "nama[2] = 'alena'\n",
    "print(nama)"
   ]
  },
  {
   "cell_type": "code",
   "execution_count": 6,
   "id": "e2010291-3a3b-4892-941e-9014955090de",
   "metadata": {},
   "outputs": [
    {
     "name": "stdout",
     "output_type": "stream",
     "text": [
      "['kambing', 'sapi', 'kuda', 'kerbau']\n"
     ]
    }
   ],
   "source": [
    "hewan = ['kambing','sapi','kuda','kerbau']\n",
    "print(hewan)"
   ]
  },
  {
   "cell_type": "code",
   "execution_count": 7,
   "id": "763874fd-0074-4c0d-8743-380b5d8ad8ae",
   "metadata": {},
   "outputs": [
    {
     "name": "stdout",
     "output_type": "stream",
     "text": [
      "kuda\n"
     ]
    }
   ],
   "source": [
    "print(hewan[2])"
   ]
  },
  {
   "cell_type": "code",
   "execution_count": 8,
   "id": "d53378e0-f1a3-4e7c-b9b3-43e92d72a7ea",
   "metadata": {},
   "outputs": [
    {
     "name": "stdout",
     "output_type": "stream",
     "text": [
      "['kambing', 'kudanil', 'sapi', 'kuda', 'kerbau']\n"
     ]
    }
   ],
   "source": [
    "hewan.insert(1,'kudanil')\n",
    "print(hewan)"
   ]
  },
  {
   "cell_type": "code",
   "execution_count": 9,
   "id": "6ff13f94-6771-4a37-a5f8-0c205da587ea",
   "metadata": {},
   "outputs": [
    {
     "name": "stdout",
     "output_type": "stream",
     "text": [
      "['kukang', 'kambing', 'kudanil', 'sapi', 'kuda', 'kerbau']\n"
     ]
    }
   ],
   "source": [
    "hewan.insert(0,'kukang')\n",
    "print(hewan)"
   ]
  },
  {
   "cell_type": "code",
   "execution_count": 10,
   "id": "5b5c5a05-72f7-46cd-8353-7bf7e3a6a438",
   "metadata": {},
   "outputs": [
    {
     "name": "stdout",
     "output_type": "stream",
     "text": [
      "sapi\n"
     ]
    }
   ],
   "source": [
    "print(hewan[3])"
   ]
  },
  {
   "cell_type": "code",
   "execution_count": 15,
   "id": "d0473b7e-060d-46eb-99ee-b4d9720b2fd4",
   "metadata": {},
   "outputs": [
    {
     "name": "stdout",
     "output_type": "stream",
     "text": [
      "1.kambing\n",
      "2.sapi\n",
      "3.kuda\n",
      "4.kerbau\n",
      "5.kucing\n",
      "6.bebek\n",
      "7.monyet\n"
     ]
    }
   ],
   "source": [
    "hewan = ['1.kambing','2.sapi','3.kuda','4.kerbau','5.kucing','6.bebek','7.monyet']\n",
    "for jenis in hewan :\n",
    "    print(jenis)"
   ]
  },
  {
   "cell_type": "code",
   "execution_count": 19,
   "id": "356b232f-e925-49b7-af02-4029b59f1cb5",
   "metadata": {},
   "outputs": [
    {
     "name": "stdout",
     "output_type": "stream",
     "text": [
      "6.bebek\n",
      "7.monyet\n"
     ]
    }
   ],
   "source": [
    "i = 5\n",
    "while i < len(hewan):\n",
    "    print(hewan[i])\n",
    "    i+=1"
   ]
  },
  {
   "cell_type": "code",
   "execution_count": 13,
   "id": "2dd0535f-5b26-46bf-b106-6692106fb582",
   "metadata": {},
   "outputs": [
    {
     "name": "stdout",
     "output_type": "stream",
     "text": [
      "range(0, 42)\n"
     ]
    }
   ],
   "source": [
    "genap = range(42)\n",
    "print (genap)"
   ]
  },
  {
   "cell_type": "code",
   "execution_count": 14,
   "id": "b598e1b1-76a3-451b-826b-5bbb5f0757d7",
   "metadata": {},
   "outputs": [
    {
     "name": "stdout",
     "output_type": "stream",
     "text": [
      "2\n",
      "4\n",
      "6\n",
      "8\n",
      "10\n",
      "12\n",
      "14\n",
      "16\n",
      "18\n",
      "20\n",
      "22\n",
      "24\n",
      "26\n",
      "28\n",
      "30\n",
      "32\n",
      "34\n",
      "36\n",
      "38\n",
      "40\n"
     ]
    }
   ],
   "source": [
    "for genap in range (2,42,2):\n",
    "    print(genap)"
   ]
  },
  {
   "cell_type": "code",
   "execution_count": 4,
   "id": "fe1651f9-2e50-4ca2-b7af-70b3eeb001dd",
   "metadata": {},
   "outputs": [
    {
     "name": "stdout",
     "output_type": "stream",
     "text": [
      "WELCOME TO SALON BEAUTY ANGEL\n",
      "\n",
      "Berikut List Perawatan di Salon Kami\n",
      "1. Creambath\n",
      "2. Cuci Catok\n",
      "3. Smoothing\n",
      "4. Keratin\n",
      "5. Nail Art\n"
     ]
    }
   ],
   "source": [
    "print(\"WELCOME TO SALON BEAUTY ANGEL\")\n",
    "print('')\n",
    "print(\"Berikut List Perawatan di Salon Kami\")\n",
    "perawatan = ['1. Creambath','2. Cuci Catok','3. Smoothing','4. Keratin','5. Nail Art']\n",
    "for list in perawatan :\n",
    "    print(list)"
   ]
  }
 ],
 "metadata": {
  "kernelspec": {
   "display_name": "Python 3 (ipykernel)",
   "language": "python",
   "name": "python3"
  },
  "language_info": {
   "codemirror_mode": {
    "name": "ipython",
    "version": 3
   },
   "file_extension": ".py",
   "mimetype": "text/x-python",
   "name": "python",
   "nbconvert_exporter": "python",
   "pygments_lexer": "ipython3",
   "version": "3.11.7"
  }
 },
 "nbformat": 4,
 "nbformat_minor": 5
}
