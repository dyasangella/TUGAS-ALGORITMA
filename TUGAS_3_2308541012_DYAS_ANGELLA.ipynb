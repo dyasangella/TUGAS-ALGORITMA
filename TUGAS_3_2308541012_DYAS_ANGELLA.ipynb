{
 "cells": [
  {
   "cell_type": "code",
   "execution_count": 1,
   "id": "433ffeff-82e8-4822-9f5d-739f45ec820f",
   "metadata": {},
   "outputs": [
    {
     "name": "stdin",
     "output_type": "stream",
     "text": [
      "masukkan berat badan anda : 54\n"
     ]
    },
    {
     "name": "stdout",
     "output_type": "stream",
     "text": [
      "diet anda selama sebulan menghasilkan hasil yang cukup\n",
      "jaga pola makan anda\n"
     ]
    }
   ],
   "source": [
    "berat_12 = float(input(\"masukkan berat badan anda :\"))\n",
    "if berat_12 <= 40:\n",
    "    print('berat badan anda kurang')\n",
    "    print('lakukan surpluss kalori yaa')\n",
    "elif berat_12 <= 60:\n",
    "    print('diet anda selama sebulan menghasilkan hasil yang cukup')\n",
    "    print('jaga pola makan anda')\n",
    "else :\n",
    "    print('anda harus tetap menjalankan program diet')\n",
    "    print('tetap semangat dan atur pola makan yaaa')"
   ]
  },
  {
   "cell_type": "code",
   "execution_count": 8,
   "id": "b42bcbbb-0d1d-4e1f-8154-932fd7d53c14",
   "metadata": {},
   "outputs": [
    {
     "name": "stdin",
     "output_type": "stream",
     "text": [
      "Berapa berat badan anda? 78\n",
      "Dinyatakan dalam Kg atau gr? Kg\n"
     ]
    },
    {
     "name": "stdout",
     "output_type": "stream",
     "text": [
      "Berat anda adalah 78000.0gr\n"
     ]
    }
   ],
   "source": [
    "berat_12 = float(input('Berapa berat badan anda?'))\n",
    "Kg_atau_gr_12 = input ('Dinyatakan dalam Kg atau gr?')\n",
    "if Kg_atau_gr_12 == 'Kg':\n",
    "    berat_12 = berat_12*1000\n",
    "    print('Berat anda adalah ' + str(berat_12) + 'gr')\n",
    "elif Kg_atau_gr_12 == 'gr' :\n",
    "    berat_12 = berat_12/1000\n",
    "    print('Berat anda adalah ' + str(berat_12) + 'Kg')"
   ]
  },
  {
   "cell_type": "code",
   "execution_count": 6,
   "id": "c9e3e2f4-5146-4f4b-9936-18988dc07a00",
   "metadata": {},
   "outputs": [
    {
     "name": "stdin",
     "output_type": "stream",
     "text": [
      "Total belanja : 65000\n"
     ]
    },
    {
     "name": "stdout",
     "output_type": "stream",
     "text": [
      "Total yang harus anda bayar : Rp. 65000.0\n",
      "Terima kasih sudah berbelanja\n"
     ]
    }
   ],
   "source": [
    "total_belanja_12 = float(input('Total belanja :'))\n",
    "if total_belanja_12 >=75000 : \n",
    "    print('Selamat anda mendapatkan diskon 15% edisi bulan ramadhan')\n",
    "    diskon_12 = total_belanja_12 * 15/100\n",
    "    total_bayar_12 = total_belanja_12 - diskon_12\n",
    "    print('Total belanja anda adalah : Rp.', total_belanja_12)\n",
    "    print('Anda mendapat potongan harga : Rp.', diskon_12)\n",
    "    print('Total yang harus anda bayar : Rp.', total_bayar_12)\n",
    "elif total_belanja_12 <75000 :\n",
    "    print('Total yang harus anda bayar : Rp.', total_belanja_12)\n",
    "\n",
    "print('Terima kasih sudah berbelanja')"
   ]
  },
  {
   "cell_type": "code",
   "execution_count": 2,
   "id": "d6560071-0ba9-4267-a1d1-9e398e4b5272",
   "metadata": {},
   "outputs": [
    {
     "name": "stdout",
     "output_type": "stream",
     "text": [
      "Apabila berat anda 15 masih perlu surpluss kalori\n",
      "Apabila berat anda 20 masih perlu surpluss kalori\n",
      "Apabila berat anda 25 masih perlu surpluss kalori\n",
      "Apabila berat anda 30 masih perlu surpluss kalori\n",
      "Apabila berat anda 35 masih perlu surpluss kalori\n",
      "Apabila berat anda 40 masih perlu surpluss kalori\n"
     ]
    }
   ],
   "source": [
    "berat = 15\n",
    "while berat <= 40:\n",
    "    print(\"Apabila berat anda \" + str(berat)+\" masih perlu surpluss kalori\")\n",
    "    berat +=5"
   ]
  },
  {
   "cell_type": "code",
   "execution_count": 11,
   "id": "0bbe2b02-cead-4cbe-9898-89a4873edf11",
   "metadata": {},
   "outputs": [
    {
     "name": "stdout",
     "output_type": "stream",
     "text": [
      "Bilangan ganjil mulai dari 1 hingga x\n"
     ]
    },
    {
     "name": "stdin",
     "output_type": "stream",
     "text": [
      "Masukkan nilai X = 15\n"
     ]
    },
    {
     "name": "stdout",
     "output_type": "stream",
     "text": [
      "1\n",
      "3\n",
      "5\n",
      "7\n",
      "9\n",
      "11\n",
      "13\n",
      "15\n"
     ]
    }
   ],
   "source": [
    "print('Bilangan ganjil mulai dari 1 hingga x')\n",
    "a = 1\n",
    "x = float(input('Masukkan nilai X ='))\n",
    "while a <= x :\n",
    "    print(a)\n",
    "    a=a+2"
   ]
  }
 ],
 "metadata": {
  "kernelspec": {
   "display_name": "Python 3 (ipykernel)",
   "language": "python",
   "name": "python3"
  },
  "language_info": {
   "codemirror_mode": {
    "name": "ipython",
    "version": 3
   },
   "file_extension": ".py",
   "mimetype": "text/x-python",
   "name": "python",
   "nbconvert_exporter": "python",
   "pygments_lexer": "ipython3",
   "version": "3.11.7"
  }
 },
 "nbformat": 4,
 "nbformat_minor": 5
}
